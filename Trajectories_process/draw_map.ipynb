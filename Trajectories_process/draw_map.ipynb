{
 "cells": [
  {
   "cell_type": "code",
   "execution_count": null,
   "metadata": {},
   "outputs": [],
   "source": [
    "import csv\n",
    "import matplotlib.pyplot as plt\n",
    "\n",
    "csvFile = open(\"/home/neardws/Hierarchical-Reinforcement-Learning/CSV/vehicle.csv\")\n",
    "f_read = csv.reader(csvFile)\n",
    "row = list(f_read)\n",
    "x = []\n",
    "y = []\n",
    "for elem in row[1:]:\n",
    "    x_location = int(float(elem[3]))\n",
    "    y_location = int(float(elem[4]))\n",
    "    x.append(x_location)\n",
    "    y.append(y_location)\n",
    "csvFile.close()\n",
    "\n",
    "plt.figure(figsize=(10, 10), dpi=100)\n",
    "plt.scatter(x, y)\n",
    "plt.savefig('map.png', dpi=50, bbox_inches='tight')\n",
    "plt.show()"
   ]
  }
 ],
 "metadata": {
  "interpreter": {
   "hash": "7d147c52a3250c153b41f6801ca69df4aa9f1e4d9afa0ead463bb6a3a43b8876"
  },
  "kernelspec": {
   "display_name": "Python 3.8.8 64-bit ('base': conda)",
   "name": "python3"
  },
  "language_info": {
   "codemirror_mode": {
    "name": "ipython",
    "version": 3
   },
   "file_extension": ".py",
   "mimetype": "text/x-python",
   "name": "python",
   "nbconvert_exporter": "python",
   "pygments_lexer": "ipython3",
   "version": "3.8.8"
  },
  "orig_nbformat": 4
 },
 "nbformat": 4,
 "nbformat_minor": 2
}
